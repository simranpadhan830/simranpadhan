{
 "cells": [
  {
   "cell_type": "code",
   "execution_count": 1,
   "id": "fee82650",
   "metadata": {},
   "outputs": [],
   "source": [
    "import matplotlib.pyplot as plt\n",
    "import pandas as pd"
   ]
  },
  {
   "cell_type": "code",
   "execution_count": 2,
   "id": "1d5ac4a3",
   "metadata": {},
   "outputs": [],
   "source": [
    "import seaborn as sns"
   ]
  },
  {
   "cell_type": "code",
   "execution_count": 3,
   "id": "8c7a10e2",
   "metadata": {},
   "outputs": [],
   "source": [
    "df=pd.read_csv(r\"C:\\Users\\padha\\Downloads\\population_by_age_group.csv\")"
   ]
  },
  {
   "cell_type": "code",
   "execution_count": 4,
   "id": "27ff07ca",
   "metadata": {},
   "outputs": [
    {
     "data": {
      "text/html": [
       "<div>\n",
       "<style scoped>\n",
       "    .dataframe tbody tr th:only-of-type {\n",
       "        vertical-align: middle;\n",
       "    }\n",
       "\n",
       "    .dataframe tbody tr th {\n",
       "        vertical-align: top;\n",
       "    }\n",
       "\n",
       "    .dataframe thead th {\n",
       "        text-align: right;\n",
       "    }\n",
       "</style>\n",
       "<table border=\"1\" class=\"dataframe\">\n",
       "  <thead>\n",
       "    <tr style=\"text-align: right;\">\n",
       "      <th></th>\n",
       "      <th>Country</th>\n",
       "      <th>Total</th>\n",
       "      <th>65+</th>\n",
       "      <th>25-64 years</th>\n",
       "      <th>15-24 years</th>\n",
       "      <th>5-14 years</th>\n",
       "      <th>0-4 years</th>\n",
       "    </tr>\n",
       "  </thead>\n",
       "  <tbody>\n",
       "    <tr>\n",
       "      <th>0</th>\n",
       "      <td>Afghanistan</td>\n",
       "      <td>40099460</td>\n",
       "      <td>964016</td>\n",
       "      <td>12995277</td>\n",
       "      <td>8727160</td>\n",
       "      <td>10922454</td>\n",
       "      <td>6490554</td>\n",
       "    </tr>\n",
       "    <tr>\n",
       "      <th>1</th>\n",
       "      <td>Albania</td>\n",
       "      <td>2854710</td>\n",
       "      <td>463442</td>\n",
       "      <td>1527360</td>\n",
       "      <td>399113</td>\n",
       "      <td>323402</td>\n",
       "      <td>141393</td>\n",
       "    </tr>\n",
       "    <tr>\n",
       "      <th>2</th>\n",
       "      <td>Algeria</td>\n",
       "      <td>44177964</td>\n",
       "      <td>2731079</td>\n",
       "      <td>21871300</td>\n",
       "      <td>6007614</td>\n",
       "      <td>8697129</td>\n",
       "      <td>4870841</td>\n",
       "    </tr>\n",
       "    <tr>\n",
       "      <th>3</th>\n",
       "      <td>American Samoa</td>\n",
       "      <td>45056</td>\n",
       "      <td>3088</td>\n",
       "      <td>22433</td>\n",
       "      <td>7141</td>\n",
       "      <td>8365</td>\n",
       "      <td>4029</td>\n",
       "    </tr>\n",
       "    <tr>\n",
       "      <th>4</th>\n",
       "      <td>Andorra</td>\n",
       "      <td>79057</td>\n",
       "      <td>11499</td>\n",
       "      <td>48651</td>\n",
       "      <td>8570</td>\n",
       "      <td>7797</td>\n",
       "      <td>2540</td>\n",
       "    </tr>\n",
       "  </tbody>\n",
       "</table>\n",
       "</div>"
      ],
      "text/plain": [
       "          Country     Total      65+  25-64 years  15-24 years  5-14 years  \\\n",
       "0     Afghanistan  40099460   964016     12995277      8727160    10922454   \n",
       "1         Albania   2854710   463442      1527360       399113      323402   \n",
       "2         Algeria  44177964  2731079     21871300      6007614     8697129   \n",
       "3  American Samoa     45056     3088        22433         7141        8365   \n",
       "4         Andorra     79057    11499        48651         8570        7797   \n",
       "\n",
       "   0-4 years  \n",
       "0    6490554  \n",
       "1     141393  \n",
       "2    4870841  \n",
       "3       4029  \n",
       "4       2540  "
      ]
     },
     "execution_count": 4,
     "metadata": {},
     "output_type": "execute_result"
    }
   ],
   "source": [
    "df.head()"
   ]
  },
  {
   "cell_type": "code",
   "execution_count": 5,
   "id": "8071ca01",
   "metadata": {},
   "outputs": [
    {
     "name": "stdout",
     "output_type": "stream",
     "text": [
      "<class 'pandas.core.frame.DataFrame'>\n",
      "RangeIndex: 235 entries, 0 to 234\n",
      "Data columns (total 7 columns):\n",
      " #   Column       Non-Null Count  Dtype \n",
      "---  ------       --------------  ----- \n",
      " 0   Country      235 non-null    object\n",
      " 1   Total        235 non-null    int64 \n",
      " 2   65+          235 non-null    int64 \n",
      " 3   25-64 years  235 non-null    int64 \n",
      " 4   15-24 years  235 non-null    int64 \n",
      " 5   5-14 years   235 non-null    int64 \n",
      " 6   0-4 years    235 non-null    int64 \n",
      "dtypes: int64(6), object(1)\n",
      "memory usage: 13.0+ KB\n"
     ]
    }
   ],
   "source": [
    "df.info()"
   ]
  },
  {
   "cell_type": "code",
   "execution_count": 6,
   "id": "87429e8e",
   "metadata": {},
   "outputs": [
    {
     "data": {
      "text/plain": [
       "Index(['Country', 'Total', '65+', '25-64 years', '15-24 years', '5-14 years',\n",
       "       '0-4 years'],\n",
       "      dtype='object')"
      ]
     },
     "execution_count": 6,
     "metadata": {},
     "output_type": "execute_result"
    }
   ],
   "source": [
    "df.columns"
   ]
  },
  {
   "cell_type": "code",
   "execution_count": 7,
   "id": "f33f08f0",
   "metadata": {},
   "outputs": [
    {
     "data": {
      "text/plain": [
       "(235, 7)"
      ]
     },
     "execution_count": 7,
     "metadata": {},
     "output_type": "execute_result"
    }
   ],
   "source": [
    "df.shape"
   ]
  },
  {
   "cell_type": "code",
   "execution_count": 8,
   "id": "9d475299",
   "metadata": {},
   "outputs": [
    {
     "data": {
      "text/plain": [
       "Country        0\n",
       "Total          0\n",
       "65+            0\n",
       "25-64 years    0\n",
       "15-24 years    0\n",
       "5-14 years     0\n",
       "0-4 years      0\n",
       "dtype: int64"
      ]
     },
     "execution_count": 8,
     "metadata": {},
     "output_type": "execute_result"
    }
   ],
   "source": [
    "df.isnull().sum()"
   ]
  },
  {
   "cell_type": "code",
   "execution_count": 9,
   "id": "27ab96a5",
   "metadata": {},
   "outputs": [
    {
     "data": {
      "image/png": "[encoded data removed]",
      "text/plain": [
       "<Figure size 432x288 with 1 Axes>"
      ]
     },
     "metadata": {
      "needs_background": "light"
     },
     "output_type": "display_data"
    }
   ],
   "source": [
    "sorted_data = df.sort_values('Total', ascending=False)\n",
    "top_10_countries = sorted_data.head(10)\n",
    "\n",
    "plt.barh(top_10_countries['Country'], top_10_countries['Total'])\n",
    "\n",
    "plt.title(\"Top 10 Countries by Population\")\n",
    "plt.xlabel(\"Population\")\n",
    "plt.ylabel(\"Country\")\n",
    "\n",
    "plt.show()"
   ]
  },
  {
   "cell_type": "code",
   "execution_count": 10,
   "id": "b2071b98",
   "metadata": {},
   "outputs": [
    {
     "name": "stderr",
     "output_type": "stream",
     "text": [
      "C:\\Users\\padha\\anaconda3\\lib\\site-packages\\pandas\\core\\indexing.py:1676: SettingWithCopyWarning: \n",
      "A value is trying to be set on a copy of a slice from a DataFrame.\n",
      "Try using .loc[row_indexer,col_indexer] = value instead\n",
      "\n",
      "See the caveats in the documentation: https://pandas.pydata.org/pandas-docs/stable/user_guide/indexing.html#returning-a-view-versus-a-copy\n",
      "  self._setitem_single_column(ilocs[0], value, pi)\n"
     ]
    },
    {
     "data": {
      "image/png": "[encoded data removed]",
      "text/plain": [
       "<Figure size 360x1440 with 5 Axes>"
      ]
     },
     "metadata": {
      "needs_background": "light"
     },
     "output_type": "display_data"
    }
   ],
   "source": [
    "sorted_data = df.sort_values('Total', ascending=False)\n",
    "\n",
    "top_5_countries = sorted_data.head(5)\n",
    "\n",
    "fig, axs = plt.subplots(nrows=5, ncols=1, figsize=(5, 20))\n",
    "\n",
    "for i, age_group in enumerate(['65+', '25-64 years', '15-24 years', '5-14 years', '0-4 years']):\n",
    "    top_5_countries.loc[:, age_group] = top_5_countries[age_group].astype('category')\n",
    "\n",
    "    pivot_data = top_5_countries.pivot(index='Country', columns=age_group, values='Total')\n",
    "\n",
    "    pivot_data.plot(kind='barh', ax=axs[i], legend=False)\n",
    "\n",
    "    axs[i].set_title(age_group)\n",
    "    axs[i].set_xlabel('Country')\n",
    "    axs[i].set_ylabel('Population')\n",
    "\n",
    "fig.suptitle('Top 5 Populated Countries with respect to Age groups')\n",
    "\n",
    "# Add a gap between the subplots\n",
    "fig.subplots_adjust(wspace=0.3, hspace=0.3)\n",
    "\n",
    "# Display the subplot\n",
    "plt.show()"
   ]
  },
  {
   "cell_type": "code",
   "execution_count": null,
   "id": "90de8007",
   "metadata": {},
   "outputs": [],
   "source": []
  }
 ],
 "metadata": {
  "kernelspec": {
   "display_name": "Python 3",
   "language": "python",
   "name": "python3"
  },
  "language_info": {
   "codemirror_mode": {
    "name": "ipython",
    "version": 3
   },
   "file_extension": ".py",
   "mimetype": "text/x-python",
   "name": "python",
   "nbconvert_exporter": "python",
   "pygments_lexer": "ipython3",
   "version": "3.8.8"
  }
 },
 "nbformat": 4,
 "nbformat_minor": 5
}
